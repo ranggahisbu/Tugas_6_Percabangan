{
 "cells": [
  {
   "cell_type": "markdown",
   "id": "c7dc99a8-308d-44e4-987e-22b1dd4e722f",
   "metadata": {},
   "source": [
    "<h1>TUGAS 6 DASAR PEMROGRAMAN</h1>"
   ]
  },
  {
   "cell_type": "code",
   "execution_count": 73,
   "id": "5832d1ef-a7e4-4bf1-99a3-8e2827b0a278",
   "metadata": {},
   "outputs": [
    {
     "name": "stdin",
     "output_type": "stream",
     "text": [
      "Masukkan Nilai Coding : 70\n",
      "Masukkan Nilai Interview A/B/C/D : c\n"
     ]
    },
    {
     "name": "stdout",
     "output_type": "stream",
     "text": [
      "Maaf Kamu Belum Berhasil Menjadi Calon Programmer\n"
     ]
    }
   ],
   "source": [
    "#NOMOR 1\n",
    "nilai_coding = int(input('Masukkan Nilai Coding :'))\n",
    "nilai_interview = input('Masukkan Nilai Interview A/B/C/D :')\n",
    "\n",
    "if nilai_coding >=  80:\n",
    "    hasil_test1 = 'LOLOS NILAI CODING'\n",
    "elif nilai_coding >= 60:\n",
    "    hasil_test1 = 'NILAI CODING DIPERTIMBANGKAN'\n",
    "else:\n",
    "    nilai_coding <= 60\n",
    "    hasil_test1 = 'NILAI CODING TIDAK LOLOS'\n",
    "\n",
    "if nilai_interview == 'A' or nilai_interview == 'B':\n",
    "    hasil_interview1 = 'LOLOS INTERVIEW'\n",
    "else:\n",
    "    hasil_interview1 = 'TIDAK LOLOS INTERVIEW'\n",
    "\n",
    "if hasil_test1 == 'LOLOS NILAI CODING' and hasil_interview1 == 'LOLOS INTERVIEW':\n",
    "    print('Selamat Kamu Berhasil Menjadi Calon Programmer')\n",
    "elif hasil_test1 == 'NILAI CODING DIPERTIMBANGKAN' and hasil_interview1 == 'LOLOS INTERVIEW':\n",
    "    print('Selamat Kamu Berhasil Menjadi Calon Programmer')\n",
    "\n",
    "else:\n",
    "    print('Maaf Kamu Belum Berhasil Menjadi Calon Programmer')"
   ]
  },
  {
   "cell_type": "code",
   "execution_count": 8,
   "id": "9c573269-9d31-4afc-be56-1f31aef83f86",
   "metadata": {},
   "outputs": [
    {
     "name": "stdin",
     "output_type": "stream",
     "text": [
      "Masukkan nomor punggung pemain:  93\n"
     ]
    },
    {
     "name": "stdout",
     "output_type": "stream",
     "text": [
      "Nomor punggung 93 dapat digunakan untuk posisi 'Playmaker'\n"
     ]
    }
   ],
   "source": [
    "#NOMOR 2\n",
    "nomor_punggung = int(input(\"Masukkan nomor punggung pemain: \"))\n",
    "\n",
    "if nomor_punggung % 2 == 0:\n",
    "    if nomor_punggung > 50 and nomor_punggung <= 100:\n",
    "        print(\"Nomor punggung\", nomor_punggung, \"dapat digunakan untuk posisi 'Captain Team'\")\n",
    "    else:\n",
    "        print(\"Nomor punggung\", nomor_punggung, \"dapat digunakan untuk posisi 'Target Attacker'\")\n",
    "else:\n",
    "    if nomor_punggung > 90:\n",
    "        print(\"Nomor punggung\", nomor_punggung, \"dapat digunakan untuk posisi 'Playmaker'\")\n",
    "    elif nomor_punggung % 3 == 0 or nomor_punggung % 5 == 0:\n",
    "        print(\"Nomor punggung\", nomor_punggung, \"dapat digunakan untuk posisi 'Keeper'\")\n",
    "    else:\n",
    "        print(\"Nomor punggung\", nomor_punggung, \"dapat digunakan untuk posisi 'Defender'\")"
   ]
  },
  {
   "cell_type": "code",
   "execution_count": null,
   "id": "87d3b71a-7051-47d6-9d1d-afd5cb6172fa",
   "metadata": {},
   "outputs": [],
   "source": []
  }
 ],
 "metadata": {
  "kernelspec": {
   "display_name": "Python 3 (ipykernel)",
   "language": "python",
   "name": "python3"
  },
  "language_info": {
   "codemirror_mode": {
    "name": "ipython",
    "version": 3
   },
   "file_extension": ".py",
   "mimetype": "text/x-python",
   "name": "python",
   "nbconvert_exporter": "python",
   "pygments_lexer": "ipython3",
   "version": "3.11.7"
  }
 },
 "nbformat": 4,
 "nbformat_minor": 5
}
